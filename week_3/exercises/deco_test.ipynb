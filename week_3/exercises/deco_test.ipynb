{
  "cells": [
    {
      "cell_type": "code",
      "source": [
        "from deco import AbstractEffect, AbstractNegative, AbstractPositive, Berserk, Blessing, Curse, EvilEye,Weakness, Hero"
      ],
      "outputs": [],
      "execution_count": 3,
      "metadata": {
        "collapsed": false,
        "outputHidden": false,
        "inputHidden": false
      }
    },
    {
      "cell_type": "code",
      "source": [
        "# создаем героя\n",
        "hero = Hero()\n",
        "hero.get_stats()"
      ],
      "outputs": [
        {
          "output_type": "execute_result",
          "execution_count": 4,
          "data": {
            "text/plain": [
              "{'HP': 128,\n",
              " 'MP': 42,\n",
              " 'SP': 100,\n",
              " 'Strength': 15,\n",
              " 'Perception': 4,\n",
              " 'Endurance': 8,\n",
              " 'Charisma': 2,\n",
              " 'Intelligence': 3,\n",
              " 'Agility': 8,\n",
              " 'Luck': 1}"
            ]
          },
          "metadata": {}
        }
      ],
      "execution_count": 4,
      "metadata": {
        "collapsed": false,
        "outputHidden": false,
        "inputHidden": false
      }
    },
    {
      "cell_type": "code",
      "source": [
        "hero.stats"
      ],
      "outputs": [
        {
          "output_type": "execute_result",
          "execution_count": 5,
          "data": {
            "text/plain": [
              "{'HP': 128,\n",
              " 'MP': 42,\n",
              " 'SP': 100,\n",
              " 'Strength': 15,\n",
              " 'Perception': 4,\n",
              " 'Endurance': 8,\n",
              " 'Charisma': 2,\n",
              " 'Intelligence': 3,\n",
              " 'Agility': 8,\n",
              " 'Luck': 1}"
            ]
          },
          "metadata": {}
        }
      ],
      "execution_count": 5,
      "metadata": {
        "collapsed": false,
        "outputHidden": false,
        "inputHidden": false
      }
    },
    {
      "cell_type": "code",
      "source": [
        "hero.get_negative_effects()"
      ],
      "outputs": [
        {
          "output_type": "execute_result",
          "execution_count": 6,
          "data": {
            "text/plain": [
              "[]"
            ]
          },
          "metadata": {}
        }
      ],
      "execution_count": 6,
      "metadata": {
        "collapsed": false,
        "outputHidden": false,
        "inputHidden": false
      }
    },
    {
      "cell_type": "code",
      "source": [
        "hero.get_positive_effects()"
      ],
      "outputs": [
        {
          "output_type": "execute_result",
          "execution_count": 7,
          "data": {
            "text/plain": [
              "[]"
            ]
          },
          "metadata": {}
        }
      ],
      "execution_count": 7,
      "metadata": {
        "collapsed": false,
        "outputHidden": false,
        "inputHidden": false
      }
    },
    {
      "cell_type": "code",
      "source": [
        "# накладываем эффект\n",
        "brs1 = Berserk(hero)\n",
        "brs1.get_stats()"
      ],
      "outputs": [
        {
          "output_type": "execute_result",
          "execution_count": 8,
          "data": {
            "text/plain": [
              "{'HP': 178,\n",
              " 'MP': 42,\n",
              " 'SP': 100,\n",
              " 'Strength': 22,\n",
              " 'Perception': 1,\n",
              " 'Endurance': 15,\n",
              " 'Charisma': -1,\n",
              " 'Intelligence': 0,\n",
              " 'Agility': 15,\n",
              " 'Luck': 8}"
            ]
          },
          "metadata": {}
        }
      ],
      "execution_count": 8,
      "metadata": {
        "collapsed": false,
        "outputHidden": false,
        "inputHidden": false
      }
    },
    {
      "cell_type": "code",
      "source": [
        "print(brs1.get_negative_effects(), brs1.get_positive_effects(), sep='\\n')"
      ],
      "outputs": [
        {
          "output_type": "stream",
          "name": "stdout",
          "text": [
            "[]\n",
            "['Berserk']\n"
          ]
        }
      ],
      "execution_count": 10,
      "metadata": {
        "collapsed": false,
        "outputHidden": false,
        "inputHidden": false
      }
    },
    {
      "cell_type": "code",
      "source": [
        "# накладываем эффекты\n",
        "brs2 = Berserk(brs1)\n",
        "cur1 = Curse(brs2)\n",
        "cur1.get_stats()"
      ],
      "outputs": [
        {
          "output_type": "execute_result",
          "execution_count": 11,
          "data": {
            "text/plain": [
              "{'HP': 228,\n",
              " 'MP': 42,\n",
              " 'SP': 100,\n",
              " 'Strength': 27,\n",
              " 'Perception': -4,\n",
              " 'Endurance': 20,\n",
              " 'Charisma': -6,\n",
              " 'Intelligence': -5,\n",
              " 'Agility': 20,\n",
              " 'Luck': 13}"
            ]
          },
          "metadata": {}
        }
      ],
      "execution_count": 11,
      "metadata": {
        "collapsed": false,
        "outputHidden": false,
        "inputHidden": false
      }
    },
    {
      "cell_type": "code",
      "source": [
        "print(cur1.get_positive_effects(), cur1.get_negative_effects(), sep='\\n')"
      ],
      "outputs": [
        {
          "output_type": "stream",
          "name": "stdout",
          "text": [
            "['Berserk', 'Berserk']\n",
            "['Curse']\n"
          ]
        }
      ],
      "execution_count": 12,
      "metadata": {
        "collapsed": false,
        "outputHidden": false,
        "inputHidden": false
      }
    },
    {
      "cell_type": "code",
      "source": [
        "# снимаем эффект Berserk\n",
        "cur1.base = brs1\n",
        "cur1.get_stats()"
      ],
      "outputs": [
        {
          "output_type": "execute_result",
          "execution_count": 13,
          "data": {
            "text/plain": [
              "{'HP': 178,\n",
              " 'MP': 42,\n",
              " 'SP': 100,\n",
              " 'Strength': 20,\n",
              " 'Perception': -1,\n",
              " 'Endurance': 13,\n",
              " 'Charisma': -3,\n",
              " 'Intelligence': -2,\n",
              " 'Agility': 13,\n",
              " 'Luck': 6}"
            ]
          },
          "metadata": {}
        }
      ],
      "execution_count": 13,
      "metadata": {
        "collapsed": false,
        "outputHidden": false,
        "inputHidden": false
      }
    },
    {
      "cell_type": "code",
      "source": [
        "print(cur1.get_positive_effects(), cur1.get_negative_effects(), sep='\\n')"
      ],
      "outputs": [
        {
          "output_type": "stream",
          "name": "stdout",
          "text": [
            "['Berserk']\n",
            "['Curse']\n"
          ]
        }
      ],
      "execution_count": 14,
      "metadata": {
        "collapsed": false,
        "outputHidden": false,
        "inputHidden": false
      }
    },
    {
      "cell_type": "code",
      "source": [],
      "outputs": [],
      "execution_count": null,
      "metadata": {
        "collapsed": false,
        "outputHidden": false,
        "inputHidden": false
      }
    }
  ],
  "metadata": {
    "kernel_info": {
      "name": "python3"
    },
    "language_info": {
      "name": "python",
      "version": "3.7.3",
      "mimetype": "text/x-python",
      "codemirror_mode": {
        "name": "ipython",
        "version": 3
      },
      "pygments_lexer": "ipython3",
      "nbconvert_exporter": "python",
      "file_extension": ".py"
    },
    "kernelspec": {
      "name": "python3",
      "language": "python",
      "display_name": "Python 3"
    },
    "nteract": {
      "version": "0.12.3"
    }
  },
  "nbformat": 4,
  "nbformat_minor": 4
}