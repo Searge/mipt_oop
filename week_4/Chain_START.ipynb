{
  "cells": [
    {
      "cell_type": "markdown",
      "source": [
        "# Chain of Responsibility\n",
        "Краткая реализация паттерна"
      ],
      "metadata": {
        "collapsed": false,
        "outputHidden": false,
        "inputHidden": false
      }
    },
    {
      "cell_type": "code",
      "source": [
        "class Chacter:\n",
        "    def __init__(self):\n",
        "        self.name = \"Nagibator\"\n",
        "        self.xp = 0\n",
        "        self.passed_quests = set()\n",
        "        self.taken_quests = set()"
      ],
      "outputs": [],
      "execution_count": 1,
      "metadata": {}
    },
    {
      "cell_type": "code",
      "source": [
        "def add_quest_speak(char):\n",
        "    quest_name = \"Поговорить с фермером\"\n",
        "    xp = 100\n",
        "    if quest_name not in (char.passed_quests | char.taken_quests):\n",
        "        print(f\"Квест получен '{quest_name}'\")\n",
        "        char.taken_quests.add(quest_name)\n",
        "    elif quest_name in char.taken_quests:\n",
        "        print(f\"Квест сдан '{quest_name}'\")\n",
        "        char.passed_quests.add(quest_name)\n",
        "        char.taken_quests.remove(quest_name)\n",
        "        char.xp += xp\n",
        "        \n",
        "def add_quest_hunt(char):\n",
        "    quest_name = \"Охота на крыс\"\n",
        "    xp = 300\n",
        "    if quest_name not in (char.passed_quests | char.taken_quests):\n",
        "        print(f\"Квест получен '{quest_name}'\")\n",
        "        char.taken_quests.add(quest_name)\n",
        "    elif quest_name in char.taken_quests:\n",
        "        print(f\"Квест сдан '{quest_name}'\")\n",
        "        char.passed_quests.add(quest_name)\n",
        "        char.taken_quests.remove(quest_name)\n",
        "        char.xp += xp    "
      ],
      "outputs": [],
      "execution_count": 13,
      "metadata": {
        "collapsed": false,
        "outputHidden": false,
        "inputHidden": false
      }
    },
    {
      "cell_type": "code",
      "source": [
        "def add_quest_carry(char):\n",
        "    quest_name = \"Принести доски с сарая\"\n",
        "    xp = 200\n",
        "    if quest_name not in (char.passed_quests | char.taken_quests):\n",
        "        print(f\"Квест получен '{quest_name}'\")\n",
        "        char.taken_quests.add(quest_name)\n",
        "    elif quest_name in char.taken_quests:\n",
        "        print(f\"Квест сдан '{quest_name}'\")\n",
        "        char.passed_quests.add(quest_name)\n",
        "        char.taken_quests.remove(quest_name)\n",
        "        char.xp += xp    "
      ],
      "outputs": [],
      "execution_count": 14,
      "metadata": {
        "collapsed": false,
        "outputHidden": false,
        "inputHidden": false
      }
    },
    {
      "cell_type": "code",
      "source": [
        "class QuestGiver:\n",
        "    def __init__(self):\n",
        "        self.quests = []\n",
        "        \n",
        "    def add_quests(self, quest):\n",
        "        self.quests.append(quest)\n",
        "        \n",
        "    def handle_quests(self, character):\n",
        "        for quest in self.quests:\n",
        "            quest(character)\n",
        "            "
      ],
      "outputs": [],
      "execution_count": 15,
      "metadata": {
        "collapsed": false,
        "outputHidden": false,
        "inputHidden": false
      }
    },
    {
      "cell_type": "code",
      "source": [
        "all_quest = [add_quest_carry, add_quest_hunt, add_quest_speak]\n",
        "\n",
        "quest_giver = QuestGiver()\n",
        "\n",
        "for quest in all_quest:\n",
        "    quest_giver.add_quests(quest)"
      ],
      "outputs": [],
      "execution_count": 16,
      "metadata": {
        "collapsed": false,
        "outputHidden": false,
        "inputHidden": false
      }
    },
    {
      "cell_type": "code",
      "source": [
        "quest_giver.__dict__"
      ],
      "outputs": [
        {
          "output_type": "execute_result",
          "execution_count": 18,
          "data": {
            "text/plain": [
              "{'quests': [<function __main__.add_quest_carry(char)>,\n",
              "  <function __main__.add_quest_hunt(char)>,\n",
              "  <function __main__.add_quest_speak(char)>]}"
            ]
          },
          "metadata": {}
        }
      ],
      "execution_count": 18,
      "metadata": {
        "collapsed": false,
        "outputHidden": false,
        "inputHidden": false
      }
    },
    {
      "cell_type": "code",
      "source": [
        "player = Chacter()"
      ],
      "outputs": [],
      "execution_count": 17,
      "metadata": {
        "collapsed": false,
        "outputHidden": false,
        "inputHidden": false
      }
    },
    {
      "cell_type": "code",
      "source": [
        "quest_giver.handle_quests(player)"
      ],
      "outputs": [
        {
          "output_type": "stream",
          "name": "stdout",
          "text": [
            "Квест получен 'Принести доски с сарая'\n",
            "Квест получен 'Охота на крыс'\n",
            "Квест получен 'Поговорить с фермером'\n"
          ]
        }
      ],
      "execution_count": 19,
      "metadata": {
        "collapsed": false,
        "outputHidden": false,
        "inputHidden": false
      }
    },
    {
      "cell_type": "code",
      "source": [
        "print('Получено: ', player.taken_quests)\n",
        "print('Сдано: ', player.passed_quests)"
      ],
      "outputs": [
        {
          "output_type": "stream",
          "name": "stdout",
          "text": [
            "Получено:  {'Поговорить с фермером', 'Охота на крыс', 'Принести доски с сарая'}\n",
            "Сдано:  set()\n"
          ]
        }
      ],
      "execution_count": 21,
      "metadata": {
        "collapsed": false,
        "outputHidden": false,
        "inputHidden": false
      }
    },
    {
      "cell_type": "code",
      "source": [
        "player.taken_quests = {'Поговорить с фермером', 'Принести доски с сарая'}"
      ],
      "outputs": [],
      "execution_count": 22,
      "metadata": {
        "collapsed": false,
        "outputHidden": false,
        "inputHidden": false
      }
    },
    {
      "cell_type": "code",
      "source": [
        "quest_giver.handle_quests(player)"
      ],
      "outputs": [
        {
          "output_type": "stream",
          "name": "stdout",
          "text": [
            "Квест сдан 'Принести доски с сарая'\n",
            "Квест получен 'Охота на крыс'\n",
            "Квест сдан 'Поговорить с фермером'\n"
          ]
        }
      ],
      "execution_count": 23,
      "metadata": {
        "collapsed": false,
        "outputHidden": false,
        "inputHidden": false
      }
    },
    {
      "cell_type": "code",
      "source": [
        "quest_giver.handle_quests(player)"
      ],
      "outputs": [
        {
          "output_type": "stream",
          "name": "stdout",
          "text": [
            "Квест сдан 'Охота на крыс'\n"
          ]
        }
      ],
      "execution_count": 24,
      "metadata": {
        "collapsed": false,
        "outputHidden": false,
        "inputHidden": false
      }
    }
  ],
  "metadata": {
    "kernel_info": {
      "name": "python3"
    },
    "language_info": {
      "name": "python",
      "version": "3.7.3",
      "mimetype": "text/x-python",
      "codemirror_mode": {
        "name": "ipython",
        "version": 3
      },
      "pygments_lexer": "ipython3",
      "nbconvert_exporter": "python",
      "file_extension": ".py"
    },
    "kernelspec": {
      "name": "python3",
      "language": "python",
      "display_name": "Python 3"
    },
    "nteract": {
      "version": "0.12.3"
    }
  },
  "nbformat": 4,
  "nbformat_minor": 4
}