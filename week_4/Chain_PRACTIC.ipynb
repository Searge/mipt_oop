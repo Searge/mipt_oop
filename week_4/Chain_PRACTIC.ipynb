{
  "cells": [
    {
      "cell_type": "markdown",
      "source": [
        "# Chain of Responsibility\n",
        "Практическая реализация паттерна"
      ],
      "metadata": {
        "collapsed": false,
        "outputHidden": false,
        "inputHidden": false
      }
    },
    {
      "cell_type": "code",
      "source": [
        "class Character:\n",
        "    def __init__(self):\n",
        "        self.name = \"Nagibator\"\n",
        "        self.xp = 0\n",
        "        self.passed_quests = set()\n",
        "        self.taken_quests = set()"
      ],
      "outputs": [],
      "execution_count": 1,
      "metadata": {
        "collapsed": false,
        "outputHidden": false,
        "inputHidden": false
      }
    },
    {
      "cell_type": "code",
      "source": [
        "# ИДЕНТИФИКАТОРЫ СОБЫТИЙ\n",
        "QUEST_SPEAK, QUEST_HUNT, QUEST_CARRY = \"QSPEAK\", \"QHUNT\", \"QCARRY\""
      ],
      "outputs": [],
      "execution_count": 2,
      "metadata": {
        "collapsed": false,
        "outputHidden": false,
        "inputHidden": false
      }
    },
    {
      "cell_type": "code",
      "source": [
        "class Event:\n",
        "    def __init__(self, kind):\n",
        "        self.kind = kind"
      ],
      "outputs": [],
      "execution_count": 3,
      "metadata": {
        "collapsed": false,
        "outputHidden": false,
        "inputHidden": false
      }
    },
    {
      "cell_type": "code",
      "source": [
        "class NullHandler:\n",
        "    \"\"\"\n",
        "    Нулевой оброботчик который будет передавать события следующему обработчику,\n",
        "    если такой имеется.\n",
        "    \"\"\"\n",
        "    def __init__(self, succesor=None):\n",
        "        \"\"\"\n",
        "        Передаем следующее звено цепочки:\n",
        "        \"\"\"\n",
        "        self.__succesor = succesor\n",
        "        \n",
        "    def handle(self, char, event):\n",
        "        if self.__succesor is not None:\n",
        "            self.__succesor.handle(char, event)"
      ],
      "outputs": [],
      "execution_count": 4,
      "metadata": {
        "collapsed": false,
        "outputHidden": false,
        "inputHidden": false
      }
    },
    {
      "cell_type": "code",
      "source": [
        "class QuestSpeak(NullHandler):\n",
        "        def handle(self, char, event):\n",
        "            \n",
        "            if event.kind == QUEST_SPEAK:\n",
        "                quest_name = \"Поговорить с фермером\"\n",
        "                xp = 100\n",
        "                if quest_name not in (char.passed_quests | char.taken_quests):\n",
        "                    print(f\"Квест получен '{quest_name}'\")\n",
        "                    char.taken_quests.add(quest_name)\n",
        "                elif quest_name in char.taken_quests:\n",
        "                    print(f\"Квест сдан '{quest_name}'\")\n",
        "                    char.passed_quests.add(quest_name)\n",
        "                    char.taken_quests.remove(quest_name)\n",
        "                    char.xp += xp\n",
        "            else:\n",
        "                print('Передаю событие дальше')\n",
        "                super().handle(char, event)\n",
        "\n",
        "                \n",
        "class QuestHunt(NullHandler):\n",
        "        def handle(self, char, event):\n",
        "            \n",
        "            if event.kind == QUEST_HUNT:\n",
        "                quest_name = \"Охота на крыс\"\n",
        "                xp = 300\n",
        "                if quest_name not in (char.passed_quests | char.taken_quests):\n",
        "                    print(f\"Квест получен '{quest_name}'\")\n",
        "                    char.taken_quests.add(quest_name)\n",
        "                elif quest_name in char.taken_quests:\n",
        "                    print(f\"Квест сдан '{quest_name}'\")\n",
        "                    char.passed_quests.add(quest_name)\n",
        "                    char.taken_quests.remove(quest_name)\n",
        "                    char.xp += xp    \n",
        "            else:\n",
        "                print('Передаю событие дальше')\n",
        "                super().handle(char, event)                          \n",
        "       \n",
        "    \n",
        "class QuestCarry(NullHandler):\n",
        "        def handle(self, char, event):\n",
        "            \n",
        "            if event.kind == QUEST_CARRY:\n",
        "                quest_name = \"Принести доски с сарая\"\n",
        "                xp = 200\n",
        "                if quest_name not in (char.passed_quests | char.taken_quests):\n",
        "                    print(f\"Квест получен '{quest_name}'\")\n",
        "                    char.taken_quests.add(quest_name)\n",
        "                elif quest_name in char.taken_quests:\n",
        "                    print(f\"Квест сдан '{quest_name}'\")\n",
        "                    char.passed_quests.add(quest_name)\n",
        "                    char.taken_quests.remove(quest_name)\n",
        "                    char.xp += xp  \n",
        "            else:\n",
        "                print('Передаю событие дальше')\n",
        "                super().handle(char, event)                          "
      ],
      "outputs": [],
      "execution_count": 5,
      "metadata": {
        "collapsed": false,
        "outputHidden": false,
        "inputHidden": false
      }
    },
    {
      "cell_type": "code",
      "source": [
        "class QuestGiver:\n",
        "    def __init__(self):\n",
        "        self.handlers = QuestCarry(QuestHunt(QuestSpeak(NullHandler)))\n",
        "        self.events = []\n",
        "        \n",
        "    def add_event(self, event):\n",
        "        self.events.append(event)\n",
        "        \n",
        "    def handle_quests(self, character):\n",
        "        for event in self.events:\n",
        "            self.handlers.handle(character, event)"
      ],
      "outputs": [],
      "execution_count": 6,
      "metadata": {
        "collapsed": false,
        "outputHidden": false,
        "inputHidden": false
      }
    },
    {
      "cell_type": "code",
      "source": [
        "events = [Event(QUEST_CARRY), Event(QUEST_HUNT), Event(QUEST_SPEAK)]\n",
        "\n",
        "quest_giver = QuestGiver()\n",
        "\n",
        "for event in events:\n",
        "    quest_giver.add_event(event)"
      ],
      "outputs": [],
      "execution_count": 7,
      "metadata": {
        "collapsed": false,
        "outputHidden": false,
        "inputHidden": false
      }
    },
    {
      "cell_type": "code",
      "source": [
        "player = Character()\n",
        "\nquest_giver.handle_quests(player)"
      ],
      "outputs": [
        {
          "output_type": "stream",
          "name": "stdout",
          "text": [
            "Квест получен 'Принести доски с сарая'\n",
            "Передаю событие дальше\n",
            "Квест получен 'Охота на крыс'\n",
            "Передаю событие дальше\n",
            "Передаю событие дальше\n",
            "Квест получен 'Поговорить с фермером'\n"
          ]
        }
      ],
      "execution_count": 8,
      "metadata": {
        "collapsed": false,
        "outputHidden": false,
        "inputHidden": false
      }
    },
    {
      "cell_type": "code",
      "source": [
        "player.taken_quests = {'Поговорить с фермером', 'Принести доски с сарая'}\n",
        "quest_giver.handle_quests(player)"
      ],
      "outputs": [
        {
          "output_type": "stream",
          "name": "stdout",
          "text": [
            "Квест сдан 'Принести доски с сарая'\n",
            "Передаю событие дальше\n",
            "Квест получен 'Охота на крыс'\n",
            "Передаю событие дальше\n",
            "Передаю событие дальше\n",
            "Квест сдан 'Поговорить с фермером'\n"
          ]
        }
      ],
      "execution_count": 9,
      "metadata": {
        "collapsed": false,
        "outputHidden": false,
        "inputHidden": false
      }
    },
    {
      "cell_type": "code",
      "source": [
        "quest_giver.handle_quests(player)"
      ],
      "outputs": [
        {
          "output_type": "stream",
          "name": "stdout",
          "text": [
            "Передаю событие дальше\n",
            "Квест сдан 'Охота на крыс'\n",
            "Передаю событие дальше\n",
            "Передаю событие дальше\n"
          ]
        }
      ],
      "execution_count": 10,
      "metadata": {
        "collapsed": false,
        "outputHidden": false,
        "inputHidden": false
      }
    }
  ],
  "metadata": {
    "kernel_info": {
      "name": "python3"
    },
    "language_info": {
      "name": "python",
      "version": "3.7.3",
      "mimetype": "text/x-python",
      "codemirror_mode": {
        "name": "ipython",
        "version": 3
      },
      "pygments_lexer": "ipython3",
      "nbconvert_exporter": "python",
      "file_extension": ".py"
    },
    "kernelspec": {
      "name": "python3",
      "language": "python",
      "display_name": "Python 3"
    },
    "nteract": {
      "version": "0.12.3"
    }
  },
  "nbformat": 4,
  "nbformat_minor": 4
}