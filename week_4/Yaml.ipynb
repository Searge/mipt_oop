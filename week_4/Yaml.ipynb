{
 "cells": [
  {
   "cell_type": "markdown",
   "metadata": {},
   "source": [
    "# Конфигурирование с YAML\n",
    "\n",
    "В данном примере будет показано, как можно сконфигурировать отчёт при помощи `YAML` файла.\n",
    "\n",
    "В качестве фабрики, по производству отчёта возмём фабрики, созданные в предыдущих уроках, но изменим их так, чтобы формирование отчёта осуществялось через загрузку `yaml` файла.\n",
    "\n",
    "### YAML файл отчёта\n",
    "\n",
    "Определим строковые переменные `yml_MD` и `yml_HTML` в которых будут храниться содержание конфигурационных фалов для `Markdown` и `HTML` отчёта соответственно.\n",
    "\n",
    "для `Markdown` отчёта"
   ]
  },
  {
   "cell_type": "code",
   "execution_count": 4,
   "metadata": {},
   "outputs": [],
   "source": [
    "yml_MD = '''\n",
    "--- !MDreport                # указывает, что хранящаяся ниже структура относиться к типу MDreport   \n",
    "objects:                     # для хранения якорей\n",
    "  - &img !img                # якорь img хранит объект типа img\n",
    "      alt_text: coursera     # описание изображения\n",
    "      src: \"https://blog.coursera.org/wp-content/uploads/2017/07/coursera-fb.png\"   # адрес изображения\n",
    "report: !report              # содержит непосредственно отчёт\n",
    "  filename: report_yaml.md   # имя файла отчёта\n",
    "  title: !!str Report        # название отчёта - строковый параметр (!!str) \"Report\"\n",
    "  parts:                     # содержание отчёта - список частей (каждая часть начинаеться с \"-\")\n",
    "    - !chapter                   # первая часть отчёта - объект типа \"chapter\"\n",
    "      caption: \"chapter one\"         # заглавие первой части\n",
    "      parts:                         # содержание первой части - список ниже\n",
    " \n",
    " # первая часть - текст.\n",
    " # символ '>' вконце показывает, что весь блок ниже являеться содержанием. Перенос строк не учитываеться\n",
    " # Для учёта переноса строк - символ '|'\n",
    " \n",
    "        - |                            \n",
    "          chapter\n",
    "          1\n",
    "          text               \n",
    "        - !link                          # далее ссылка\n",
    "            obj: coursera                    # текст ссылки\n",
    "            href: \"https://ru.coursera.org\"  # куда ссылаеться\n",
    "    - !chapter                   # вторая часть отчёта - объект типа \"chapter\"\n",
    "      caption: \"chapter two\"         # заглавие второй части\n",
    "      parts:                         # содержание второй части - список ниже\n",
    "        - \"Chapter 2 header\"             # сначала текст\n",
    "        - !link                          # далее ссылка\n",
    "            obj: *img                        # объект, хранящийся по якорю img (изображение) будет являться ссылкой\n",
    "            href: \"https://ru.coursera.org\"  # куда ссылаеться\n",
    "        - \"Chapter 2 footer\"             # в конце - текст'''"
   ]
  },
  {
   "cell_type": "markdown",
   "metadata": {
    "collapsed": true
   },
   "source": [
    "Для `HTML` отчёта только одно изминение — тип отчёта:"
   ]
  },
  {
   "cell_type": "code",
   "execution_count": 5,
   "metadata": {},
   "outputs": [],
   "source": [
    "yml_HTML = '''\n",
    "--- !HTMLreport             # указывает, что хранящаяся ниже структура относиться к типу HTMLreport\n",
    "objects:\n",
    "  - &img !img\n",
    "      alt_text: google\n",
    "      src: \"https://blog.coursera.org/wp-content/uploads/2017/07/coursera-fb.png\"\n",
    "report: !report\n",
    "  filename: report_yaml.html\n",
    "  title: Report\n",
    "  parts:\n",
    "    - !chapter\n",
    "      caption: \"chapter one\"\n",
    "      parts:\n",
    "        - \"chapter 1 text\"\n",
    "        - !link\n",
    "            obj: coursera\n",
    "            href: \"https://ru.coursera.org\"\n",
    "    - !chapter\n",
    "      caption: \"chapter two\"\n",
    "      parts:\n",
    "        - \"Chapter 2 header\"\n",
    "        - !link\n",
    "            obj: *img\n",
    "            href: \"https://ru.coursera.org\"\n",
    "        - \"Chapter 2 footer\"'''"
   ]
  },
  {
   "cell_type": "markdown",
   "metadata": {},
   "source": [
    "Далее перейдём к изменению абстрактной фабрики `ReportFactory`"
   ]
  },
  {
   "cell_type": "code",
   "execution_count": 6,
   "metadata": {},
   "outputs": [],
   "source": [
    "import yaml      # для работы с PyYAML\n",
    "\n",
    "\n",
    "# теперь ReportFactory - потомок yaml.YAMLObject.\n",
    "# Сделано для того, чтобы yaml оработчик знал новый тип данных, указанный в yaml_tag\n",
    "# он будет определён в фабриках - потомках\n",
    "class ReportFactory(yaml.YAMLObject):\n",
    "\n",
    "    # данные yaml фала - структура отчёта одинакова для всех потомков.\n",
    "    # В связи с этим - получение отчёта из yaml файла - классовый метод со специальным именем from_yaml\n",
    "    @classmethod\n",
    "    def from_yaml(Class, loader, node):\n",
    "        # сначала опишем функции для обработки каждого нового типа\n",
    "        # метод loader.construct_mapping() формирует из содержания node словарь\n",
    "\n",
    "        # обработчик создания отчёта !report\n",
    "        def get_report(loader, node):\n",
    "            data = loader.construct_mapping(node)\n",
    "            rep = Class.make_report(data[\"title\"])\n",
    "            rep.filename = data[\"filename\"]\n",
    "            # на данный момент data[\"parts\"] пуст. Он будет заполнен позже, соответствующим обработчиком,\n",
    "            # сохраняем на него ссылку, дополнив сразу частями из rep.parts\n",
    "            data[\"parts\"].extend(rep.parts)\n",
    "            rep.parts = data[\"parts\"]\n",
    "            return rep\n",
    "\n",
    "    # обработчик создания части !chapter\n",
    "        def get_chapter(loader, node):\n",
    "            data = loader.construct_mapping(node)\n",
    "            ch = Class.make_chapter(data[\"caption\"])\n",
    "            # аналогично предыдущему обработчику\n",
    "            data[\"parts\"].extend(ch.objects)\n",
    "            ch.objects = data[\"parts\"]\n",
    "            return ch\n",
    "\n",
    "    # обработчик создания ссылки !link\n",
    "        def get_link(loader, node):\n",
    "            data = loader.construct_mapping(node)\n",
    "            lnk = Class.make_link(data[\"obj\"], data[\"href\"])\n",
    "            return lnk\n",
    "\n",
    "    # обработчик создания изображения !img\n",
    "        def get_img(loader, node):\n",
    "            data = loader.construct_mapping(node)\n",
    "            img = Class.make_img(data[\"alt_text\"], data[\"src\"])\n",
    "            return img\n",
    "\n",
    "    # добавляем обработчики\n",
    "        loader.add_constructor(u\"!report\", get_report)\n",
    "        loader.add_constructor(u\"!chapter\", get_chapter)\n",
    "        loader.add_constructor(u\"!link\", get_link)\n",
    "        loader.add_constructor(u\"!img\", get_img)\n",
    "\n",
    "    # возвращаем результат yaml обработчика - отчёт\n",
    "        return loader.construct_mapping(node)['report']\n",
    "\n",
    "    # ниже - без изменений\n",
    "\n",
    "    @classmethod\n",
    "    def make_report(Class, title):\n",
    "        return Class.Report(title)\n",
    "\n",
    "    @classmethod\n",
    "    def make_chapter(Class, caption):\n",
    "        return Class.Chapter(caption)\n",
    "\n",
    "    @classmethod\n",
    "    def make_link(Class, obj, href):\n",
    "        return Class.Link(obj, href)\n",
    "\n",
    "    @classmethod\n",
    "    def make_img(Class, alt_text, src):\n",
    "        return Class.Img(alt_text, src)"
   ]
  },
  {
   "cell_type": "markdown",
   "metadata": {},
   "source": [
    "Далее берём непосредственно фабрики по производству элементов отчёта. Добавляем соответствие фабрик `yaml` типу"
   ]
  },
  {
   "cell_type": "code",
   "execution_count": 7,
   "metadata": {},
   "outputs": [],
   "source": [
    "class MDreportFactory(ReportFactory):\n",
    "    yaml_tag = u'!MDreport'        # указываем соответствие\n",
    "\n",
    "    class Report:\n",
    "        def __init__(self, title):\n",
    "            self.parts = []\n",
    "            self.parts.append(\"# \"+title+\"\\n\\n\")\n",
    "\n",
    "        def add(self, part):\n",
    "            self.parts.append(part)\n",
    "\n",
    "        def save(self):          # вносим изменения - имя файла отчёта указываеться в yaml файле\n",
    "            try:\n",
    "                file = open(self.filename, \"w\", encoding=\"utf-8\")\n",
    "                print('\\n'.join(map(str, self.parts)), file=file)\n",
    "            finally:\n",
    "                if isinstance(self.filename, str) and file is not None:\n",
    "                    file.close()\n",
    "\n",
    "    class Chapter:\n",
    "        def __init__(self, caption):\n",
    "            self.caption = caption\n",
    "            self.objects = []\n",
    "\n",
    "        def add(self, obj):\n",
    "            print(obj)\n",
    "            self.objects.append(obj)\n",
    "\n",
    "        def __str__(self):\n",
    "            return f'## {self.caption}\\n\\n' + ''.join(map(str, self.objects))\n",
    "\n",
    "    class Link:\n",
    "        def __init__(self, obj, href):\n",
    "            self.obj = obj\n",
    "            self.href = href\n",
    "\n",
    "        def __str__(self):\n",
    "            return f'[{self.obj}]({self.href})'\n",
    "\n",
    "    class Img:\n",
    "        def __init__(self, alt_text, src):\n",
    "            self.alt_text = alt_text\n",
    "            self.src = src\n",
    "\n",
    "        def __str__(self):\n",
    "            return f'![{self.alt_text}]({self.src})'\n",
    "\n",
    "\n",
    "class HTMLreportFactory(ReportFactory):\n",
    "    yaml_tag = u'!HTMLreport'\n",
    "\n",
    "    class Report:\n",
    "        def __init__(self, title):\n",
    "            self.title = title\n",
    "            self.parts = []\n",
    "            self.parts.append(\"<html>\")\n",
    "            self.parts.append(\"<head>\")\n",
    "            self.parts.append(\"<title>\" + title + \"</title>\")\n",
    "            self.parts.append(\"<meta charset=\\\"utf-8\\\">\")\n",
    "            self.parts.append(\"</head>\")\n",
    "            self.parts.append(\"<body>\")\n",
    "\n",
    "        def add(self, part):\n",
    "            self.parts.append(part)\n",
    "\n",
    "        def save(self):\n",
    "            try:\n",
    "                file = open(self.filename, \"w\", encoding=\"utf-8\")\n",
    "                print('\\n'.join(map(str, self.parts)), file=file)\n",
    "            finally:\n",
    "                if isinstance(self.filename, str) and file is not None:\n",
    "                    file.close()\n",
    "\n",
    "    class Chapter:\n",
    "        def __init__(self, caption):\n",
    "            self.caption = caption\n",
    "            self.objects = []\n",
    "\n",
    "        def add(self, obj):\n",
    "            self.objects.append(obj)\n",
    "\n",
    "        def __str__(self):\n",
    "            ch = f'<h1>{self.caption}</h1>'\n",
    "            return ch + ''.join(map(str, self.objects))\n",
    "\n",
    "    class Link:\n",
    "        def __init__(self, obj, href):\n",
    "            self.obj = obj\n",
    "            self.href = href\n",
    "\n",
    "        def __str__(self):\n",
    "            return f'<a href=\"{self.href}\">{self.obj}</a>'\n",
    "\n",
    "    class Img:\n",
    "        def __init__(self, alt_text, src):\n",
    "            self.alt_text = alt_text\n",
    "            self.src = src\n",
    "\n",
    "        def __str__(self):\n",
    "            return f'<img alt = \"{self.alt_text}\", sr c =\"{self.src}\"/>'"
   ]
  },
  {
   "cell_type": "markdown",
   "metadata": {},
   "source": [
    "Осталось провести загрузку `yaml` файла и вывести результат"
   ]
  },
  {
   "cell_type": "code",
   "execution_count": 8,
   "metadata": {},
   "outputs": [
    {
     "name": "stdout",
     "output_type": "stream",
     "text": [
      "Сохранено: report_yaml.md\n",
      "Сохранено: report_yaml.html\n"
     ]
    },
    {
     "data": {
      "text/markdown": [
       "# <span style=\"color:red\">report.md</span>"
      ],
      "text/plain": [
       "<IPython.core.display.Markdown object>"
      ]
     },
     "metadata": {},
     "output_type": "display_data"
    },
    {
     "data": {
      "text/markdown": [
       "# Report\n",
       "\n",
       "\n",
       "## chapter one\n",
       "\n",
       "chapter\n",
       "1\n",
       "text               \n",
       "[coursera](https://ru.coursera.org)\n",
       "## chapter two\n",
       "\n",
       "Chapter 2 header[![coursera](https://blog.coursera.org/wp-content/uploads/2017/07/coursera-fb.png)](https://ru.coursera.org)Chapter 2 footer\n"
      ],
      "text/plain": [
       "<IPython.core.display.Markdown object>"
      ]
     },
     "metadata": {},
     "output_type": "display_data"
    },
    {
     "data": {
      "text/markdown": [
       "# <span style=\"color:red\">report.html</span>"
      ],
      "text/plain": [
       "<IPython.core.display.Markdown object>"
      ]
     },
     "metadata": {},
     "output_type": "display_data"
    },
    {
     "data": {
      "text/html": [
       "<html>\n",
       "<head>\n",
       "<title>Report</title>\n",
       "<meta charset=\"utf-8\">\n",
       "</head>\n",
       "<body>\n",
       "<h1>chapter one</h1>chapter 1 text<a href=\"https://ru.coursera.org\">coursera</a>\n",
       "<h1>chapter two</h1>Chapter 2 header<a href=\"https://ru.coursera.org\"><img alt = \"google\", sr c =\"https://blog.coursera.org/wp-content/uploads/2017/07/coursera-fb.png\"/></a>Chapter 2 footer\n"
      ],
      "text/plain": [
       "<IPython.core.display.HTML object>"
      ]
     },
     "metadata": {},
     "output_type": "display_data"
    }
   ],
   "source": [
    "from IPython.display import display, Markdown, HTML\n",
    "\n",
    "txtreport = yaml.load(yml_MD)            # загружаем yaml файл markdown отчёта\n",
    "txtreport.save()                         # сохраняем\n",
    "print(\"Сохранено:\", txtreport.filename)  # вывод\n",
    "\n",
    "HTMLreport = yaml.load(yml_HTML)         # загружаем yaml файл markdown отчёта\n",
    "HTMLreport.save()                        # сохраняем\n",
    "print(\"Сохранено:\", HTMLreport.filename)  # вывод\n",
    "\n",
    "# Выводим результат работы в jupyter notebook\n",
    "\n",
    "display(Markdown('# <span style=\"color:red\">report.md</span>'))\n",
    "display(Markdown(filename=\"report_yaml.md\"))\n",
    "display(Markdown('# <span style=\"color:red\">report.html</span>'))\n",
    "display(HTML(filename=\"report_yaml.html\"))"
   ]
  }
 ],
 "metadata": {
  "kernelspec": {
   "display_name": "Python 3",
   "language": "python",
   "name": "python3"
  },
  "language_info": {
   "codemirror_mode": {
    "name": "ipython",
    "version": 3
   },
   "file_extension": ".py",
   "mimetype": "text/x-python",
   "name": "python",
   "nbconvert_exporter": "python",
   "pygments_lexer": "ipython3",
   "version": "3.6.4"
  }
 },
 "nbformat": 4,
 "nbformat_minor": 2
}
