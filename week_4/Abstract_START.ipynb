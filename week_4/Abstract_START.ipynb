{
  "cells": [
    {
      "cell_type": "markdown",
      "source": [
        "# Abstract Factory\n",
        "Краткая реализация паттерна"
      ],
      "metadata": {}
    },
    {
      "cell_type": "code",
      "source": [
        "from abc import ABC, abstractmethod"
      ],
      "outputs": [],
      "execution_count": 1,
      "metadata": {
        "collapsed": false,
        "outputHidden": false,
        "inputHidden": false
      }
    },
    {
      "cell_type": "code",
      "source": [
        "class HeroFactory(ABC):\n",
        "    @abstractmethod\n",
        "    def create_hero(self, name):\n",
        "        pass\n",
        "    \n",
        "    @abstractmethod\n",
        "    def create_spell(self):\n",
        "        pass\n",
        "    \n",
        "    @abstractmethod\n",
        "    def create_weapon(self):\n",
        "        pass"
      ],
      "outputs": [],
      "execution_count": 2,
      "metadata": {
        "collapsed": false,
        "outputHidden": false,
        "inputHidden": false
      }
    },
    {
      "cell_type": "code",
      "source": [
        "class WarriorFactory(HeroFactory):\n",
        "    def create_hero(self, name):\n",
        "        return Warrior(name)\n",
        "    \n",
        "    def create_spell(self):\n",
        "        return Power()\n",
        "    \n",
        "    def create_weapon(self):\n",
        "        return Claymore()"
      ],
      "outputs": [],
      "execution_count": 3,
      "metadata": {
        "collapsed": false,
        "outputHidden": false,
        "inputHidden": false
      }
    },
    {
      "cell_type": "code",
      "source": [
        "class Warrior:\n",
        "    def __init__(self, name):\n",
        "        self.name = name\n",
        "        self.spell = None\n",
        "        self.weapon = None\n",
        "\n",
        "    def add_spell(self, spell):\n",
        "        self.spell = spell\n",
        "        \n",
        "    def add_weapon(self, weapon):\n",
        "        self.weapon = weapon\n",
        "    \n",
        "    def hit(self):\n",
        "        print(f\"Warrior {self.name} hits with {self.weapon.hit()}\")\n",
        "        \n",
        "    def cast(self):\n",
        "        print(f\"Warrior {self.name} hits with {self.spell.cast()}\")\n",
        "        \n",
        "class Claymore:\n",
        "    def hit(self):\n",
        "        return \"Claymore\"\n",
        "\n",
        "class Power:\n",
        "    def cast(self):\n",
        "        return \"Power\""
      ],
      "outputs": [],
      "execution_count": 4,
      "metadata": {
        "collapsed": false,
        "outputHidden": false,
        "inputHidden": false
      }
    },
    {
      "cell_type": "code",
      "source": [
        "class MageFactory(HeroFactory): \n",
        "    def create_hero(self, name):\n",
        "        return Mage(name)\n",
        "\n",
        "    def create_weapon(self): \n",
        "        return Staff()\n",
        "\n",
        "    def create_spell(self): \n",
        "        return Fireball()\n",
        "\n",
        "class Mage:\n",
        "    def __init__(self, name):\n",
        "        self.name = name \n",
        "        self.weapon = None \n",
        "        self.armor = None\n",
        "        self.spell = None\n",
        "\n",
        "    def add_weapon(self, weapon): \n",
        "        self.weapon = weapon\n",
        "\n",
        "    def add_spell(self, spell): \n",
        "        self.spell = spell\n",
        "\n",
        "    def hit(self):\n",
        "        print(f\"M. {self.name} uses {self.weapon.hit()}\") \n",
        "        self.weapon.hit()\n",
        "\n",
        "    def cast(self):\n",
        "        print(f\"M. {self.name} casts {self.spell.cast()}\") \n",
        "        self.spell.cast()\n",
        "\n",
        "class Staff:\n",
        "    def hit(self):\n",
        "        return \"Staff\"\n",
        "\n",
        "class Fireball:\n",
        "    def cast(self):\n",
        "        return \"Fireball\""
      ],
      "outputs": [],
      "execution_count": 6,
      "metadata": {
        "collapsed": false,
        "outputHidden": false,
        "inputHidden": false
      }
    },
    {
      "cell_type": "code",
      "source": [
        "class AssassinFactory(HeroFactory): \n",
        "    def create_hero(self, name):\n",
        "        return Assassin(name)\n",
        "    \n",
        "    def create_weapon(self): \n",
        "        return Dagger()\n",
        "    \n",
        "    def create_spell(self): \n",
        "        return Invisibility()"
      ],
      "outputs": [],
      "execution_count": 7,
      "metadata": {
        "collapsed": false,
        "outputHidden": false,
        "inputHidden": false
      }
    },
    {
      "cell_type": "code",
      "source": [
        "class Assassin:\n",
        "    def __init__(self, name):\n",
        "        self.name = name\n",
        "        self.spell = None\n",
        "        self.weapon = None\n",
        "        self.armor = None\n",
        "\n",
        "    def add_spell(self, spell):\n",
        "        self.spell = spell\n",
        "        \n",
        "    def add_weapon(self, weapon):\n",
        "        self.weapon = weapon\n",
        "    \n",
        "    def hit(self):\n",
        "        print(f\"Assassin {self.name} uses {self.weapon.hit()}\")\n",
        "        \n",
        "    def cast(self):\n",
        "        print(f\"Assassin {self.name} cast {self.spell.cast()}\")\n",
        "        \n",
        "class Dagger:\n",
        "    def hit(self):\n",
        "        return \"Dagger\"\n",
        "\n",
        "class Invisibility:\n",
        "    def cast(self):\n",
        "        return \"Invisibility\""
      ],
      "outputs": [],
      "execution_count": 15,
      "metadata": {
        "collapsed": false,
        "outputHidden": false,
        "inputHidden": false
      }
    },
    {
      "cell_type": "code",
      "source": [
        "def create_hero(factory):\n",
        "    hero = factory.create_hero(\"Nagibator\")\n",
        "    weapon = factory.create_weapon() \n",
        "    ability = factory.create_spell()\n",
        "    \n",
        "    hero.add_weapon(weapon)\n",
        "    hero.add_spell(ability) \n",
        "    \n",
        "    return hero"
      ],
      "outputs": [],
      "execution_count": 9,
      "metadata": {
        "collapsed": false,
        "outputHidden": false,
        "inputHidden": false
      }
    },
    {
      "cell_type": "code",
      "source": [
        "factory = AssassinFactory() \n",
        "player = create_hero(factory) \n",
        "player.cast()\n",
        "player.hit()"
      ],
      "outputs": [
        {
          "output_type": "stream",
          "name": "stdout",
          "text": [
            "Assassin Nagibator cast Invisibility\n",
            "Assassin Nagibator uses Dagger\n"
          ]
        }
      ],
      "execution_count": 16,
      "metadata": {
        "collapsed": false,
        "outputHidden": false,
        "inputHidden": false
      }
    },
    {
      "cell_type": "code",
      "source": [
        "factory = MageFactory() \n",
        "player = create_hero(factory) \n",
        "player.cast()\n",
        "player.hit()"
      ],
      "outputs": [
        {
          "output_type": "stream",
          "name": "stdout",
          "text": [
            "M. Nagibator casts Fireball\n",
            "M. Nagibator uses Staff\n"
          ]
        }
      ],
      "execution_count": 17,
      "metadata": {
        "collapsed": false,
        "outputHidden": false,
        "inputHidden": false
      }
    }
  ],
  "metadata": {
    "kernel_info": {
      "name": "python3"
    },
    "language_info": {
      "name": "python",
      "version": "3.7.3",
      "mimetype": "text/x-python",
      "codemirror_mode": {
        "name": "ipython",
        "version": 3
      },
      "pygments_lexer": "ipython3",
      "nbconvert_exporter": "python",
      "file_extension": ".py"
    },
    "kernelspec": {
      "name": "python3",
      "language": "python",
      "display_name": "Python 3"
    },
    "nteract": {
      "version": "0.12.3"
    }
  },
  "nbformat": 4,
  "nbformat_minor": 4
}