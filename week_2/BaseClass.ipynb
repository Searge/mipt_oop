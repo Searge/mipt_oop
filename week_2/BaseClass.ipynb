{
  "cells": [
    {
      "cell_type": "code",
      "source": [
        "import math\n",
        "from abc import ABC, abstractmethod"
      ],
      "outputs": [],
      "execution_count": 39,
      "metadata": {
        "collapsed": false,
        "outputHidden": false,
        "inputHidden": false
      }
    },
    {
      "cell_type": "code",
      "source": [
        "class Base(ABC):\n",
        "    def __init__(self, data, result):\n",
        "        self.data = data\n",
        "        self.result = result\n",
        "\n",
        "    def get_answer(self):\n",
        "        return [int(x >= 0.5) for x in self.data]\n",
        "    \n",
        "    def get_score(self):\n",
        "        ans = self.get_answer()\n",
        "        return sum([int(x == y)\n",
        "                    for (x, y) in zip(ans, self.result)]) / len(ans)\n",
        "    \n",
        "    @abstractmethod\n",
        "    def get_loss(self):\n",
        "        pass"
      ],
      "outputs": [],
      "execution_count": 2,
      "metadata": {
        "collapsed": false,
        "outputHidden": false,
        "inputHidden": false
      }
    },
    {
      "cell_type": "code",
      "source": [
        "class A(Base):\n",
        "    def get_loss(self):\n",
        "        return sum([(x - y) * (x - y)\n",
        "                    for (x, y) in zip(self.data, self.result)])"
      ],
      "outputs": [],
      "execution_count": 3,
      "metadata": {
        "collapsed": false,
        "outputHidden": false,
        "inputHidden": false
      }
    },
    {
      "cell_type": "code",
      "source": [
        "first_class = A([0, 5, 0.5, 10], [2, 10, 2, 20])"
      ],
      "outputs": [],
      "execution_count": 7,
      "metadata": {
        "collapsed": false,
        "outputHidden": false,
        "inputHidden": false
      }
    },
    {
      "cell_type": "code",
      "source": [
        "data = [-2, 0, 0.5, 1, 2]"
      ],
      "outputs": [],
      "execution_count": 15,
      "metadata": {
        "collapsed": false,
        "outputHidden": false,
        "inputHidden": false
      }
    },
    {
      "cell_type": "code",
      "source": [
        "res = [int(x >= 0.5) for x in data]; res"
      ],
      "outputs": [
        {
          "output_type": "execute_result",
          "execution_count": 19,
          "data": {
            "text/plain": [
              "[0, 0, 1, 1, 1]"
            ]
          },
          "metadata": {}
        }
      ],
      "execution_count": 19,
      "metadata": {
        "collapsed": false,
        "outputHidden": false,
        "inputHidden": false
      }
    },
    {
      "cell_type": "code",
      "source": [
        "len(data) == len(res)"
      ],
      "outputs": [
        {
          "output_type": "execute_result",
          "execution_count": 20,
          "data": {
            "text/plain": [
              "True"
            ]
          },
          "metadata": {}
        }
      ],
      "execution_count": 20,
      "metadata": {
        "collapsed": false,
        "outputHidden": false,
        "inputHidden": false
      }
    },
    {
      "cell_type": "code",
      "source": [
        "print([x >= 0.5 for x in data])\n",
        "print([x for x in data])"
      ],
      "outputs": [
        {
          "output_type": "stream",
          "name": "stdout",
          "text": [
            "[False, False, True, True, True]\n",
            "[-2, 0, 0.5, 1, 2]\n"
          ]
        }
      ],
      "execution_count": 23,
      "metadata": {
        "collapsed": false,
        "outputHidden": false,
        "inputHidden": false
      }
    },
    {
      "cell_type": "code",
      "source": [
        "result = [-2, 0, 0.5, 1, 2]\n",
        "ans = [0, 0, 1, 1, 1]"
      ],
      "outputs": [],
      "execution_count": 26,
      "metadata": {
        "collapsed": false,
        "outputHidden": false,
        "inputHidden": false
      }
    },
    {
      "cell_type": "code",
      "source": [
        "print(sum([int(x == y) for (x, y) in zip(ans, result)]) / len(ans))\n",
        "print(sum([int(x == y) for (x, y) in zip(ans, result)]))\n",
        "print([int(x == y) for (x, y) in zip(ans, result)])\n",
        "print([(x == y) for (x, y) in zip(ans, result)])\n",
        "print([(x, y) for (x, y) in zip(ans, result)])"
      ],
      "outputs": [
        {
          "output_type": "stream",
          "name": "stdout",
          "text": [
            "0.4\n",
            "2\n",
            "[0, 1, 0, 1, 0]\n",
            "[False, True, False, True, False]\n",
            "[(0, -2), (0, 0), (1, 0.5), (1, 1), (1, 2)]\n"
          ]
        }
      ],
      "execution_count": 33,
      "metadata": {
        "collapsed": false,
        "outputHidden": false,
        "inputHidden": false
      }
    },
    {
      "cell_type": "code",
      "source": [
        "print(sum([(x - y) * (x - y) for (x, y) in zip(data, result)]))"
      ],
      "outputs": [
        {
          "output_type": "stream",
          "name": "stdout",
          "text": [
            "0.0\n"
          ]
        }
      ],
      "execution_count": 34,
      "metadata": {
        "collapsed": false,
        "outputHidden": false,
        "inputHidden": false
      }
    },
    {
      "cell_type": "code",
      "source": [
        "list(zip(data, result))"
      ],
      "outputs": [
        {
          "output_type": "execute_result",
          "execution_count": 37,
          "data": {
            "text/plain": [
              "[(-2, -2), (0, 0), (0.5, 0.5), (1, 1), (2, 2)]"
            ]
          },
          "metadata": {}
        }
      ],
      "execution_count": 37,
      "metadata": {
        "collapsed": false,
        "outputHidden": false,
        "inputHidden": false
      }
    },
    {
      "cell_type": "code",
      "source": [
        "print(-sum([y * math.log(x) + (1 - y) * math.log(1 - x)\n",
        "            for (x, y) in zip(data, result)]))"
      ],
      "outputs": [
        {
          "output_type": "error",
          "ename": "ValueError",
          "evalue": "math domain error",
          "traceback": [
            "\u001b[0;31m---------------------------------------------------------------------------\u001b[0m",
            "\u001b[0;31mValueError\u001b[0m                                Traceback (most recent call last)",
            "\u001b[0;32m<ipython-input-40-32c33c6c75bf>\u001b[0m in \u001b[0;36m<module>\u001b[0;34m\u001b[0m\n\u001b[1;32m      1\u001b[0m print(-sum([y * math.log(x) + (1 - y) * math.log(1 - x)\n\u001b[0;32m----> 2\u001b[0;31m             for (x, y) in zip(data, result)]))\n\u001b[0m",
            "\u001b[0;32m<ipython-input-40-32c33c6c75bf>\u001b[0m in \u001b[0;36m<listcomp>\u001b[0;34m(.0)\u001b[0m\n\u001b[1;32m      1\u001b[0m print(-sum([y * math.log(x) + (1 - y) * math.log(1 - x)\n\u001b[0;32m----> 2\u001b[0;31m             for (x, y) in zip(data, result)]))\n\u001b[0m",
            "\u001b[0;31mValueError\u001b[0m: math domain error"
          ]
        }
      ],
      "execution_count": 40,
      "metadata": {
        "collapsed": false,
        "outputHidden": false,
        "inputHidden": false
      }
    },
    {
      "cell_type": "code",
      "source": [
        "math.log(5)"
      ],
      "outputs": [
        {
          "output_type": "execute_result",
          "execution_count": 41,
          "data": {
            "text/plain": [
              "1.6094379124341003"
            ]
          },
          "metadata": {}
        }
      ],
      "execution_count": 41,
      "metadata": {
        "collapsed": false,
        "outputHidden": false,
        "inputHidden": false
      }
    },
    {
      "cell_type": "code",
      "source": [],
      "outputs": [],
      "execution_count": null,
      "metadata": {
        "collapsed": false,
        "outputHidden": false,
        "inputHidden": false
      }
    }
  ],
  "metadata": {
    "kernel_info": {
      "name": "python3"
    },
    "language_info": {
      "name": "python",
      "version": "3.7.3",
      "mimetype": "text/x-python",
      "codemirror_mode": {
        "name": "ipython",
        "version": 3
      },
      "pygments_lexer": "ipython3",
      "nbconvert_exporter": "python",
      "file_extension": ".py"
    },
    "kernelspec": {
      "name": "python3",
      "language": "python",
      "display_name": "Python 3"
    },
    "nteract": {
      "version": "0.12.3"
    }
  },
  "nbformat": 4,
  "nbformat_minor": 4
}