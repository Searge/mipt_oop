{
  "cells": [
    {
      "cell_type": "code",
      "source": [
        "from typing import Tuple, List\n",
        "import math\n",
        "import random"
      ],
      "outputs": [],
      "execution_count": 1,
      "metadata": {
        "collapsed": false,
        "outputHidden": false,
        "inputHidden": false
      }
    },
    {
      "cell_type": "code",
      "source": [
        "def add(x, y):\n",
        "    # сумма двух векторов\n",
        "    return x[0] + y[0], x[1] + y[1]\n",
        "\n\n",
        "def mul(v, k):\n",
        "    # умножение вектора на число\n",
        "    return v[0] * k, v[1] * k"
      ],
      "outputs": [],
      "execution_count": 4,
      "metadata": {
        "collapsed": false,
        "outputHidden": false,
        "inputHidden": false
      }
    },
    {
      "cell_type": "code",
      "source": [
        "steps: int = 35\n",
        "speeds: List[Tuple[float, float]] = []\n",
        "points: List[Tuple[int, int]] = []"
      ],
      "outputs": [],
      "execution_count": 2,
      "metadata": {
        "collapsed": false,
        "outputHidden": false,
        "inputHidden": false
      }
    },
    {
      "cell_type": "code",
      "source": [
        "points = [(475, 199)]\n",
        "speeds = [(1.3269306662523934, 0.0872619412459017)]"
      ],
      "outputs": [],
      "execution_count": 3,
      "metadata": {
        "collapsed": false,
        "outputHidden": false,
        "inputHidden": false
      }
    },
    {
      "cell_type": "code",
      "source": [
        "def get_point(points, alpha, deg=None):\n",
        "    # Сглаживание ломаной\n",
        "    if deg is None:\n",
        "        deg = len(points) - 1\n",
        "    if deg == 0:\n",
        "        return points[0]\n",
        "    return add(mul(points[deg], alpha),\n",
        "               mul(get_point(points, alpha, deg - 1),\n",
        "                   1 - alpha))\n",
        "\n\n",
        "def get_points(base_points, steps: int):\n",
        "    alpha: float = 1 / steps\n",
        "    res = []\n",
        "    for i in range(steps):\n",
        "        res.append(get_point(base_points, i * alpha))\n",
        "    return res\n",
        "\n\n",
        "def get_knot(points, steps):\n",
        "    if len(points) < 3:\n",
        "        return []\n",
        "    res = []\n",
        "    for i in range(-2, len(points) - 2):\n",
        "        ptn = []\n",
        "        ptn.append(mul(add(points[i], points[i + 1]), 0.5))\n",
        "        ptn.append(points[i + 1])\n",
        "        ptn.append(mul(add(points[i + 1],\n",
        "                           points[i + 2]), 0.5))"
      ],
      "outputs": [],
      "execution_count": 6,
      "metadata": {
        "collapsed": false,
        "outputHidden": false,
        "inputHidden": false
      }
    },
    {
      "cell_type": "code",
      "source": [
        "if len(points) < 3:\n",
        "    print (points)"
      ],
      "outputs": [
        {
          "output_type": "stream",
          "name": "stdout",
          "text": [
            "[(475, 199)]\n"
          ]
        }
      ],
      "execution_count": 9,
      "metadata": {
        "collapsed": false,
        "outputHidden": false,
        "inputHidden": false
      }
    },
    {
      "cell_type": "code",
      "source": [
        "points = [(475, 199), (293, 192), (555, 777)]\n",
        "if len(points) < 3:\n",
        "    print (points)\n",
        "len(points)"
      ],
      "outputs": [
        {
          "output_type": "execute_result",
          "execution_count": 12,
          "data": {
            "text/plain": [
              "3"
            ]
          },
          "metadata": {}
        }
      ],
      "execution_count": 12,
      "metadata": {
        "collapsed": false,
        "outputHidden": false,
        "inputHidden": false
      }
    },
    {
      "cell_type": "code",
      "source": [
        "for i in range(-2, len(points) - 2):\n",
        "    print(points[i], points[i + 1])"
      ],
      "outputs": [
        {
          "output_type": "stream",
          "name": "stdout",
          "text": [
            "(293, 192) (555, 777)\n",
            "(555, 777) (475, 199)\n",
            "(475, 199) (293, 192)\n"
          ]
        }
      ],
      "execution_count": 13,
      "metadata": {
        "collapsed": false,
        "outputHidden": false,
        "inputHidden": false
      }
    },
    {
      "cell_type": "code",
      "source": [
        "points = [(475, 199), (293, 192)]\n",
        "for i in range(-2, len(points) - 2):\n",
        "    print(points[i], points[i + 1])"
      ],
      "outputs": [
        {
          "output_type": "stream",
          "name": "stdout",
          "text": [
            "(475, 199) (293, 192)\n",
            "(293, 192) (475, 199)\n"
          ]
        }
      ],
      "execution_count": 14,
      "metadata": {
        "collapsed": false,
        "outputHidden": false,
        "inputHidden": false
      }
    },
    {
      "cell_type": "code",
      "source": [],
      "outputs": [],
      "execution_count": null,
      "metadata": {
        "collapsed": false,
        "outputHidden": false,
        "inputHidden": false
      }
    }
  ],
  "metadata": {
    "kernel_info": {
      "name": "python3"
    },
    "language_info": {
      "name": "python",
      "version": "3.7.3",
      "mimetype": "text/x-python",
      "codemirror_mode": {
        "name": "ipython",
        "version": 3
      },
      "pygments_lexer": "ipython3",
      "nbconvert_exporter": "python",
      "file_extension": ".py"
    },
    "kernelspec": {
      "name": "python3",
      "language": "python",
      "display_name": "Python 3"
    },
    "nteract": {
      "version": "0.12.3"
    }
  },
  "nbformat": 4,
  "nbformat_minor": 4
}